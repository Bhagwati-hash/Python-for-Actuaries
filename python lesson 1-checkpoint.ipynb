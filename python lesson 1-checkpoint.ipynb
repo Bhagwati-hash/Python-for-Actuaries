{
 "cells": [
  {
   "cell_type": "code",
   "execution_count": 1,
   "id": "fc380dee",
   "metadata": {},
   "outputs": [],
   "source": [
    "a=3"
   ]
  },
  {
   "cell_type": "code",
   "execution_count": 5,
   "id": "4daafeed",
   "metadata": {},
   "outputs": [
    {
     "data": {
      "text/plain": [
       "3"
      ]
     },
     "execution_count": 5,
     "metadata": {},
     "output_type": "execute_result"
    }
   ],
   "source": [
    "a"
   ]
  },
  {
   "cell_type": "markdown",
   "id": "b31c1cb1",
   "metadata": {},
   "source": [
    "section A basic things"
   ]
  },
  {
   "cell_type": "code",
   "execution_count": 6,
   "id": "35873448",
   "metadata": {},
   "outputs": [],
   "source": [
    "#hello world"
   ]
  },
  {
   "cell_type": "code",
   "execution_count": 7,
   "id": "c4d0ac37",
   "metadata": {},
   "outputs": [
    {
     "name": "stdout",
     "output_type": "stream",
     "text": [
      "hello world\n"
     ]
    }
   ],
   "source": [
    "print(\"hello world\")"
   ]
  },
  {
   "cell_type": "code",
   "execution_count": null,
   "id": "1175f968",
   "metadata": {},
   "outputs": [],
   "source": [
    "#role of triple quotes"
   ]
  },
  {
   "cell_type": "code",
   "execution_count": 9,
   "id": "b5969cc8",
   "metadata": {},
   "outputs": [
    {
     "name": "stdout",
     "output_type": "stream",
     "text": [
      "I am bhagwati ,\n",
      "i am here to learn python\n"
     ]
    }
   ],
   "source": [
    "print('''I am bhagwati ,\n",
    "i am here to learn python''')"
   ]
  },
  {
   "cell_type": "markdown",
   "id": "dbfd97b5",
   "metadata": {},
   "source": [
    "**Modules**"
   ]
  },
  {
   "cell_type": "code",
   "execution_count": 12,
   "id": "8fdedfe9",
   "metadata": {},
   "outputs": [],
   "source": [
    "import os"
   ]
  },
  {
   "cell_type": "code",
   "execution_count": 13,
   "id": "aa892017",
   "metadata": {},
   "outputs": [
    {
     "name": "stdout",
     "output_type": "stream",
     "text": [
      "['.ipynb_checkpoints', 'python lesson 1.ipynb']\n"
     ]
    }
   ],
   "source": [
    "print(os.listdir())"
   ]
  },
  {
   "cell_type": "markdown",
   "id": "f48ce57f",
   "metadata": {},
   "source": [
    "# 5 basic data types"
   ]
  },
  {
   "cell_type": "markdown",
   "id": "1cd48396",
   "metadata": {},
   "source": [
    "string,integer,float,bollean,none"
   ]
  },
  {
   "cell_type": "code",
   "execution_count": null,
   "id": "ffb92e35",
   "metadata": {},
   "outputs": [],
   "source": [
    "#type casting means changing the data type of one variable to another ,'if it s posible'"
   ]
  },
  {
   "cell_type": "code",
   "execution_count": 14,
   "id": "5a44dbad",
   "metadata": {},
   "outputs": [],
   "source": [
    "b=24"
   ]
  },
  {
   "cell_type": "code",
   "execution_count": 15,
   "id": "79c61fc2",
   "metadata": {},
   "outputs": [],
   "source": [
    "b=str(b)"
   ]
  },
  {
   "cell_type": "code",
   "execution_count": 16,
   "id": "f1f9f405",
   "metadata": {},
   "outputs": [
    {
     "data": {
      "text/plain": [
       "str"
      ]
     },
     "execution_count": 16,
     "metadata": {},
     "output_type": "execute_result"
    }
   ],
   "source": [
    "type(b)"
   ]
  },
  {
   "cell_type": "markdown",
   "id": "cd8377bc",
   "metadata": {},
   "source": [
    "# **mathemetical things**"
   ]
  },
  {
   "cell_type": "code",
   "execution_count": 17,
   "id": "797d1756",
   "metadata": {},
   "outputs": [
    {
     "data": {
      "text/plain": [
       "1"
      ]
     },
     "execution_count": 17,
     "metadata": {},
     "output_type": "execute_result"
    }
   ],
   "source": [
    "#modulo remainder very useful in coupon cashflow\n",
    "10%3"
   ]
  },
  {
   "cell_type": "code",
   "execution_count": 18,
   "id": "99319da3",
   "metadata": {},
   "outputs": [
    {
     "data": {
      "text/plain": [
       "3"
      ]
     },
     "execution_count": 18,
     "metadata": {},
     "output_type": "execute_result"
    }
   ],
   "source": [
    "#last integer value (it is used to find the last  integer is called floor)\n",
    "10//3"
   ]
  },
  {
   "cell_type": "code",
   "execution_count": 19,
   "id": "58d1feff",
   "metadata": {},
   "outputs": [],
   "source": [
    "a=19"
   ]
  },
  {
   "cell_type": "code",
   "execution_count": 20,
   "id": "d29dbeba",
   "metadata": {},
   "outputs": [
    {
     "name": "stdout",
     "output_type": "stream",
     "text": [
      "my name is 19\n"
     ]
    }
   ],
   "source": [
    "print(\"my name is\",a)"
   ]
  },
  {
   "cell_type": "markdown",
   "id": "9dc1f5fb",
   "metadata": {},
   "source": [
    "# ***strings***\n",
    " 1. create a string\n",
    " 2. print a string\n",
    " 3. string indexing and slicing\n",
    " 4. string properties\n",
    " 5. methods"
   ]
  },
  {
   "cell_type": "code",
   "execution_count": 22,
   "id": "a8f4dfe0",
   "metadata": {},
   "outputs": [],
   "source": [
    "#escaped character means if you use those charaters in your quote they will not come directly they have \n",
    "#some features associated with them"
   ]
  },
  {
   "cell_type": "code",
   "execution_count": 24,
   "id": "ef91f675",
   "metadata": {},
   "outputs": [
    {
     "name": "stdout",
     "output_type": "stream",
     "text": [
      "my name is \n",
      " bhagwati mathpal\n"
     ]
    }
   ],
   "source": [
    "print(\"my name is \\n bhagwati mathpal\")\n",
    "#here\\n is an ascaped character "
   ]
  },
  {
   "cell_type": "code",
   "execution_count": 25,
   "id": "08645ff4",
   "metadata": {},
   "outputs": [
    {
     "name": "stdout",
     "output_type": "stream",
     "text": [
      "my name is \t bhagwati mathpal\n"
     ]
    }
   ],
   "source": [
    "print(\"my name is \\t bhagwati mathpal\")\n",
    "#here\\t is an ascaped character it will create a gap between string"
   ]
  },
  {
   "cell_type": "code",
   "execution_count": 27,
   "id": "02b9ec57",
   "metadata": {},
   "outputs": [
    {
     "name": "stdout",
     "output_type": "stream",
     "text": [
      "my name is \\n\\t bhagwati mathpal\n"
     ]
    }
   ],
   "source": [
    "#if i want to write something without escaping an escape character\n",
    "print(r\"my name is \\n\\t bhagwati mathpal\")\n",
    "#here\\n and \\t are  ascaped characters "
   ]
  },
  {
   "cell_type": "markdown",
   "id": "397b7317",
   "metadata": {},
   "source": [
    "# string indexing and slicing"
   ]
  },
  {
   "cell_type": "code",
   "execution_count": 30,
   "id": "8e5f6816",
   "metadata": {},
   "outputs": [],
   "source": [
    "name=\"Bhagwati mathpal\""
   ]
  },
  {
   "cell_type": "code",
   "execution_count": 31,
   "id": "2ab81c8c",
   "metadata": {},
   "outputs": [
    {
     "data": {
      "text/plain": [
       "'a'"
      ]
     },
     "execution_count": 31,
     "metadata": {},
     "output_type": "execute_result"
    }
   ],
   "source": [
    "name[2]"
   ]
  },
  {
   "cell_type": "code",
   "execution_count": 32,
   "id": "ed0c65a0",
   "metadata": {},
   "outputs": [],
   "source": [
    "#from start indexing will start from 0and from end it will start from -1,-2 and so on"
   ]
  },
  {
   "cell_type": "code",
   "execution_count": 33,
   "id": "25fe2394",
   "metadata": {},
   "outputs": [
    {
     "data": {
      "text/plain": [
       "'l'"
      ]
     },
     "execution_count": 33,
     "metadata": {},
     "output_type": "execute_result"
    }
   ],
   "source": [
    "name[-1]"
   ]
  },
  {
   "cell_type": "code",
   "execution_count": 35,
   "id": "44125e15",
   "metadata": {},
   "outputs": [
    {
     "data": {
      "text/plain": [
       "'a'"
      ]
     },
     "execution_count": 35,
     "metadata": {},
     "output_type": "execute_result"
    }
   ],
   "source": [
    "name[-2]"
   ]
  },
  {
   "cell_type": "code",
   "execution_count": 36,
   "id": "24b07455",
   "metadata": {},
   "outputs": [],
   "source": [
    "#slicing"
   ]
  },
  {
   "cell_type": "code",
   "execution_count": 37,
   "id": "e1e4f512",
   "metadata": {},
   "outputs": [
    {
     "data": {
      "text/plain": [
       "'Bhagwati mathpal'"
      ]
     },
     "execution_count": 37,
     "metadata": {},
     "output_type": "execute_result"
    }
   ],
   "source": [
    "name"
   ]
  },
  {
   "cell_type": "code",
   "execution_count": 38,
   "id": "1013dacb",
   "metadata": {},
   "outputs": [
    {
     "data": {
      "text/plain": [
       "'Bhag'"
      ]
     },
     "execution_count": 38,
     "metadata": {},
     "output_type": "execute_result"
    }
   ],
   "source": [
    "name[0:4]\n",
    "#it will extract only till index 3 it will leave index 4"
   ]
  },
  {
   "cell_type": "code",
   "execution_count": 40,
   "id": "599ff262",
   "metadata": {},
   "outputs": [
    {
     "data": {
      "text/plain": [
       "'agwa'"
      ]
     },
     "execution_count": 40,
     "metadata": {},
     "output_type": "execute_result"
    }
   ],
   "source": [
    "name[2:6]"
   ]
  },
  {
   "cell_type": "code",
   "execution_count": 41,
   "id": "0cad69f2",
   "metadata": {},
   "outputs": [
    {
     "data": {
      "text/plain": [
       "'Bawt'"
      ]
     },
     "execution_count": 41,
     "metadata": {},
     "output_type": "execute_result"
    }
   ],
   "source": [
    "name[0:8:2]\n",
    "#first colon is for starting value and the second colon is for stepping value"
   ]
  },
  {
   "cell_type": "code",
   "execution_count": 42,
   "id": "aac0bf8f",
   "metadata": {},
   "outputs": [
    {
     "data": {
      "text/plain": [
       "'laphtam itawgahB'"
      ]
     },
     "execution_count": 42,
     "metadata": {},
     "output_type": "execute_result"
    }
   ],
   "source": [
    "#can we print a string backword\n",
    "name[::-1]"
   ]
  },
  {
   "cell_type": "code",
   "execution_count": null,
   "id": "c3e531b3",
   "metadata": {},
   "outputs": [],
   "source": []
  },
  {
   "cell_type": "code",
   "execution_count": 44,
   "id": "c7b9f017",
   "metadata": {
    "collapsed": true
   },
   "outputs": [
    {
     "ename": "TypeError",
     "evalue": "'str' object does not support item assignment",
     "output_type": "error",
     "traceback": [
      "\u001b[1;31m---------------------------------------------------------------------------\u001b[0m",
      "\u001b[1;31mTypeError\u001b[0m                                 Traceback (most recent call last)",
      "\u001b[1;32m<ipython-input-44-f28b055d6a12>\u001b[0m in \u001b[0;36m<module>\u001b[1;34m\u001b[0m\n\u001b[0;32m      1\u001b[0m \u001b[1;31m#string properties\u001b[0m\u001b[1;33m\u001b[0m\u001b[1;33m\u001b[0m\u001b[1;33m\u001b[0m\u001b[0m\n\u001b[0;32m      2\u001b[0m \u001b[1;31m#string is immutable\u001b[0m\u001b[1;33m\u001b[0m\u001b[1;33m\u001b[0m\u001b[1;33m\u001b[0m\u001b[0m\n\u001b[1;32m----> 3\u001b[1;33m \u001b[0mname\u001b[0m\u001b[1;33m[\u001b[0m\u001b[1;36m0\u001b[0m\u001b[1;33m]\u001b[0m\u001b[1;33m=\u001b[0m\u001b[1;34m\"k\"\u001b[0m\u001b[1;33m\u001b[0m\u001b[1;33m\u001b[0m\u001b[0m\n\u001b[0m\u001b[0;32m      4\u001b[0m \u001b[1;31m#it will give error\u001b[0m\u001b[1;33m\u001b[0m\u001b[1;33m\u001b[0m\u001b[1;33m\u001b[0m\u001b[0m\n",
      "\u001b[1;31mTypeError\u001b[0m: 'str' object does not support item assignment"
     ]
    }
   ],
   "source": [
    "#string properties\n",
    "#string is immutable\n",
    "name[0]=\"k\"\n",
    "#it will give error"
   ]
  },
  {
   "cell_type": "code",
   "execution_count": 45,
   "id": "c46f29ca",
   "metadata": {},
   "outputs": [],
   "source": [
    "#concatenation\n",
    "y=name + \" is a female name\""
   ]
  },
  {
   "cell_type": "code",
   "execution_count": 46,
   "id": "ac4c08c1",
   "metadata": {},
   "outputs": [
    {
     "data": {
      "text/plain": [
       "'Bhagwati mathpal is a female name'"
      ]
     },
     "execution_count": 46,
     "metadata": {},
     "output_type": "execute_result"
    }
   ],
   "source": [
    "y"
   ]
  },
  {
   "cell_type": "code",
   "execution_count": null,
   "id": "b08f5ffb",
   "metadata": {},
   "outputs": [],
   "source": [
    "#methods"
   ]
  },
  {
   "cell_type": "code",
   "execution_count": null,
   "id": "78466c4f",
   "metadata": {},
   "outputs": [],
   "source": [
    "#splitting a string"
   ]
  },
  {
   "cell_type": "code",
   "execution_count": 47,
   "id": "f70c8d90",
   "metadata": {},
   "outputs": [
    {
     "data": {
      "text/plain": [
       "['Bhagwati', 'mathpal', 'is', 'a', 'female', 'name']"
      ]
     },
     "execution_count": 47,
     "metadata": {},
     "output_type": "execute_result"
    }
   ],
   "source": [
    "y.split()\n",
    "#here the string y will split on the basis of space charactor"
   ]
  },
  {
   "cell_type": "code",
   "execution_count": 50,
   "id": "4734cbfe",
   "metadata": {},
   "outputs": [
    {
     "data": {
      "text/plain": [
       "['Bh', 'gw', 'ti m', 'thp', 'l is ', ' fem', 'le n', 'me']"
      ]
     },
     "execution_count": 50,
     "metadata": {},
     "output_type": "execute_result"
    }
   ],
   "source": [
    "#if we want to split it on the basis of o\n",
    "y.split(\"a\")"
   ]
  },
  {
   "cell_type": "code",
   "execution_count": 52,
   "id": "e2858fca",
   "metadata": {},
   "outputs": [
    {
     "data": {
      "text/plain": [
       "'Bhagwati mathpal is a strong soul'"
      ]
     },
     "execution_count": 52,
     "metadata": {},
     "output_type": "execute_result"
    }
   ],
   "source": [
    "y.replace(\"female name\",\"strong soul\")"
   ]
  },
  {
   "cell_type": "code",
   "execution_count": 55,
   "id": "4c98f642",
   "metadata": {},
   "outputs": [
    {
     "data": {
      "text/plain": [
       "'B_h_a_g_w_a_t_i_ _m_a_t_h_p_a_l_ _i_s_ _a_ _f_e_m_a_l_e_ _n_a_m_e'"
      ]
     },
     "execution_count": 55,
     "metadata": {},
     "output_type": "execute_result"
    }
   ],
   "source": [
    "#join\n",
    "\"_\".join(y)"
   ]
  },
  {
   "cell_type": "code",
   "execution_count": null,
   "id": "0e1bba33",
   "metadata": {},
   "outputs": [],
   "source": [
    "#print foramting"
   ]
  },
  {
   "cell_type": "code",
   "execution_count": 56,
   "id": "b544a8a8",
   "metadata": {},
   "outputs": [],
   "source": [
    "#there are 2 methods 1. f string 2. dot formate method \n"
   ]
  },
  {
   "cell_type": "code",
   "execution_count": null,
   "id": "08f27638",
   "metadata": {},
   "outputs": [],
   "source": [
    "#f string \n"
   ]
  },
  {
   "cell_type": "code",
   "execution_count": 57,
   "id": "fd71277b",
   "metadata": {},
   "outputs": [],
   "source": [
    "user=\"tejas\""
   ]
  },
  {
   "cell_type": "code",
   "execution_count": 59,
   "id": "c997300c",
   "metadata": {},
   "outputs": [
    {
     "name": "stdout",
     "output_type": "stream",
     "text": [
      "my name is tejas\n"
     ]
    }
   ],
   "source": [
    "print(f\"my name is {user}\")"
   ]
  },
  {
   "cell_type": "code",
   "execution_count": null,
   "id": "3153e60c",
   "metadata": {},
   "outputs": [],
   "source": [
    "#.format"
   ]
  },
  {
   "cell_type": "code",
   "execution_count": 60,
   "id": "bfd9cee6",
   "metadata": {},
   "outputs": [
    {
     "name": "stdout",
     "output_type": "stream",
     "text": [
      "hi my name is tejas\n"
     ]
    }
   ],
   "source": [
    "print(\"hi my name is {}\".format(user))"
   ]
  },
  {
   "cell_type": "code",
   "execution_count": null,
   "id": "51f47f6a",
   "metadata": {},
   "outputs": [],
   "source": []
  },
  {
   "cell_type": "code",
   "execution_count": null,
   "id": "d932cdfe",
   "metadata": {},
   "outputs": [],
   "source": []
  },
  {
   "cell_type": "code",
   "execution_count": null,
   "id": "e0304396",
   "metadata": {},
   "outputs": [],
   "source": []
  },
  {
   "cell_type": "code",
   "execution_count": null,
   "id": "9fb3839e",
   "metadata": {},
   "outputs": [],
   "source": []
  },
  {
   "cell_type": "code",
   "execution_count": null,
   "id": "74236821",
   "metadata": {},
   "outputs": [],
   "source": []
  },
  {
   "cell_type": "code",
   "execution_count": null,
   "id": "3296790c",
   "metadata": {},
   "outputs": [],
   "source": []
  },
  {
   "cell_type": "code",
   "execution_count": null,
   "id": "a5daff77",
   "metadata": {},
   "outputs": [],
   "source": []
  },
  {
   "cell_type": "code",
   "execution_count": null,
   "id": "e7e2e9d8",
   "metadata": {},
   "outputs": [],
   "source": []
  },
  {
   "cell_type": "code",
   "execution_count": null,
   "id": "085f58b5",
   "metadata": {},
   "outputs": [],
   "source": []
  }
 ],
 "metadata": {
  "kernelspec": {
   "display_name": "Python 3",
   "language": "python",
   "name": "python3"
  },
  "language_info": {
   "codemirror_mode": {
    "name": "ipython",
    "version": 3
   },
   "file_extension": ".py",
   "mimetype": "text/x-python",
   "name": "python",
   "nbconvert_exporter": "python",
   "pygments_lexer": "ipython3",
   "version": "3.8.8"
  }
 },
 "nbformat": 4,
 "nbformat_minor": 5
}
